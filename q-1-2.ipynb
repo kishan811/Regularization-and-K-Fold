{
 "cells": [
  {
   "cell_type": "markdown",
   "metadata": {},
   "source": [
    "## Ridge Regression (L2 regularisation) :-"
   ]
  },
  {
   "cell_type": "code",
   "execution_count": 226,
   "metadata": {},
   "outputs": [],
   "source": [
    "import numpy as np  \n",
    "import matplotlib.pyplot as plt  \n",
    "import pandas as pd\n",
    "import csv\n",
    "import random\n",
    "import math\n",
    "import operator\n",
    "from numpy import linalg as LA\n",
    "import sys\n",
    "from sklearn.metrics import classification_report,confusion_matrix,accuracy_score\n",
    "from sklearn import linear_model"
   ]
  },
  {
   "cell_type": "code",
   "execution_count": 227,
   "metadata": {},
   "outputs": [],
   "source": [
    "df = pd.read_csv('AdmissionDataset/data.csv')"
   ]
  },
  {
   "cell_type": "code",
   "execution_count": 228,
   "metadata": {},
   "outputs": [
    {
     "data": {
      "text/html": [
       "<div>\n",
       "<style scoped>\n",
       "    .dataframe tbody tr th:only-of-type {\n",
       "        vertical-align: middle;\n",
       "    }\n",
       "\n",
       "    .dataframe tbody tr th {\n",
       "        vertical-align: top;\n",
       "    }\n",
       "\n",
       "    .dataframe thead th {\n",
       "        text-align: right;\n",
       "    }\n",
       "</style>\n",
       "<table border=\"1\" class=\"dataframe\">\n",
       "  <thead>\n",
       "    <tr style=\"text-align: right;\">\n",
       "      <th></th>\n",
       "      <th>Serial No.</th>\n",
       "      <th>GRE Score</th>\n",
       "      <th>TOEFL Score</th>\n",
       "      <th>University Rating</th>\n",
       "      <th>SOP</th>\n",
       "      <th>LOR</th>\n",
       "      <th>CGPA</th>\n",
       "      <th>Research</th>\n",
       "      <th>Chance of Admit</th>\n",
       "    </tr>\n",
       "  </thead>\n",
       "  <tbody>\n",
       "    <tr>\n",
       "      <th>0</th>\n",
       "      <td>242</td>\n",
       "      <td>317</td>\n",
       "      <td>103</td>\n",
       "      <td>2</td>\n",
       "      <td>2.5</td>\n",
       "      <td>2.0</td>\n",
       "      <td>8.15</td>\n",
       "      <td>0</td>\n",
       "      <td>0.65</td>\n",
       "    </tr>\n",
       "    <tr>\n",
       "      <th>1</th>\n",
       "      <td>334</td>\n",
       "      <td>319</td>\n",
       "      <td>108</td>\n",
       "      <td>3</td>\n",
       "      <td>3.0</td>\n",
       "      <td>3.5</td>\n",
       "      <td>8.54</td>\n",
       "      <td>1</td>\n",
       "      <td>0.71</td>\n",
       "    </tr>\n",
       "    <tr>\n",
       "      <th>2</th>\n",
       "      <td>4</td>\n",
       "      <td>322</td>\n",
       "      <td>110</td>\n",
       "      <td>3</td>\n",
       "      <td>3.5</td>\n",
       "      <td>2.5</td>\n",
       "      <td>8.67</td>\n",
       "      <td>1</td>\n",
       "      <td>0.80</td>\n",
       "    </tr>\n",
       "    <tr>\n",
       "      <th>3</th>\n",
       "      <td>45</td>\n",
       "      <td>326</td>\n",
       "      <td>113</td>\n",
       "      <td>5</td>\n",
       "      <td>4.5</td>\n",
       "      <td>4.0</td>\n",
       "      <td>9.40</td>\n",
       "      <td>1</td>\n",
       "      <td>0.91</td>\n",
       "    </tr>\n",
       "    <tr>\n",
       "      <th>4</th>\n",
       "      <td>232</td>\n",
       "      <td>319</td>\n",
       "      <td>106</td>\n",
       "      <td>3</td>\n",
       "      <td>3.5</td>\n",
       "      <td>2.5</td>\n",
       "      <td>8.33</td>\n",
       "      <td>1</td>\n",
       "      <td>0.74</td>\n",
       "    </tr>\n",
       "  </tbody>\n",
       "</table>\n",
       "</div>"
      ],
      "text/plain": [
       "   Serial No.  GRE Score  TOEFL Score  University Rating  SOP  LOR   CGPA  \\\n",
       "0         242        317          103                  2  2.5   2.0  8.15   \n",
       "1         334        319          108                  3  3.0   3.5  8.54   \n",
       "2           4        322          110                  3  3.5   2.5  8.67   \n",
       "3          45        326          113                  5  4.5   4.0  9.40   \n",
       "4         232        319          106                  3  3.5   2.5  8.33   \n",
       "\n",
       "   Research  Chance of Admit   \n",
       "0         0              0.65  \n",
       "1         1              0.71  \n",
       "2         1              0.80  \n",
       "3         1              0.91  \n",
       "4         1              0.74  "
      ]
     },
     "execution_count": 228,
     "metadata": {},
     "output_type": "execute_result"
    }
   ],
   "source": [
    "df.head()"
   ]
  },
  {
   "cell_type": "code",
   "execution_count": 229,
   "metadata": {},
   "outputs": [],
   "source": [
    "def MSE(theta,bias,X,Y,l):\n",
    "    temp=np.dot(X,theta)\n",
    "    Htheta=temp+bias\n",
    "    t1=np.sum((Htheta-Y)**2)\n",
    "    return (0.5/len(X))*(t1)"
   ]
  },
  {
   "cell_type": "code",
   "execution_count": 230,
   "metadata": {},
   "outputs": [],
   "source": [
    "from sklearn.model_selection import train_test_split  \n",
    "train,test = train_test_split(df, test_size=0.2)\n",
    "train_y = train['Chance of Admit ']\n",
    "train = train.drop('Serial No.',axis=1)\n",
    "train = train.drop('Chance of Admit ',axis=1)\n",
    "test_y = test['Chance of Admit ']\n",
    "test = test.drop('Serial No.',axis=1)\n",
    "test = test.drop('Chance of Admit ',axis=1)"
   ]
  },
  {
   "cell_type": "code",
   "execution_count": 231,
   "metadata": {},
   "outputs": [
    {
     "name": "stdout",
     "output_type": "stream",
     "text": [
      "(360, 7)\n",
      "(360, 1)\n"
     ]
    },
    {
     "data": {
      "text/plain": [
       "(90, 1)"
      ]
     },
     "execution_count": 231,
     "metadata": {},
     "output_type": "execute_result"
    }
   ],
   "source": [
    "xtrain=np.array(train)\n",
    "xtrain=(xtrain-xtrain.mean(axis=0))/xtrain.std(axis=0)\n",
    "print(xtrain.shape)\n",
    "ytrain=np.array(train_y)\n",
    "ytrain=ytrain.reshape((len(ytrain),1))\n",
    "print(ytrain.shape)\n",
    "xtest=np.array(test)\n",
    "xtest=(xtest-xtest.mean(axis=0))/xtest.std(axis=0)\n",
    "ytest=np.array(test_y)\n",
    "ytest=ytest.reshape((len(ytest),1))\n",
    "ytest.shape"
   ]
  },
  {
   "cell_type": "code",
   "execution_count": 232,
   "metadata": {},
   "outputs": [],
   "source": [
    "def cost_func(theta,bias,X,Y,l):\n",
    "    temp=np.dot(X,theta)\n",
    "    Htheta=temp+bias\n",
    "    t1=np.sum((Htheta-Y)**2)\n",
    "    t2=l*np.sum(theta**2)\n",
    "    return (0.5/len(X))*(t1+t2)"
   ]
  },
  {
   "cell_type": "code",
   "execution_count": 233,
   "metadata": {},
   "outputs": [],
   "source": [
    "def grad_des(X,Y,lr,epochs,l):\n",
    "    theta=np.zeros((X.shape[1],1))\n",
    "    bias=0\n",
    "    for e in range(epochs):\n",
    "        temp=np.dot(X,theta)\n",
    "        Htheta=temp+bias\n",
    "        db=np.sum(Htheta-Y)\n",
    "        dtheta=np.dot(X.T,(Htheta-Y))\n",
    "        ridge_diff=dtheta+l*theta\n",
    "        bias=bias-(lr/len(X)*db)\n",
    "        theta=theta-(lr/len(X)*ridge_diff)\n",
    "#         if e%10==0:\n",
    "#             print(\"Cost at epoch \"+ str(e) +\" is- \"+ str(cost_func(theta,bias,X,Y,l)))\n",
    "    return theta,bias"
   ]
  },
  {
   "cell_type": "code",
   "execution_count": 241,
   "metadata": {},
   "outputs": [],
   "source": [
    "# theta,bias=grad_des(xtrain,ytrain,0.1,1000,0)"
   ]
  },
  {
   "cell_type": "code",
   "execution_count": 235,
   "metadata": {},
   "outputs": [],
   "source": [
    "lambda_list=[]\n",
    "err_list=[]\n",
    "el=[]\n",
    "for i in range(0,100,5):\n",
    "    theta,bias=grad_des(xtrain,ytrain,0.1,1000,i)\n",
    "    lambda_list.append(i)\n",
    "    tempvar=MSE(theta,bias,xtest,ytest,i)\n",
    "    err_list.append(tempvar)\n",
    "    el.append(MSE(theta,bias,xtrain,ytrain,i))"
   ]
  },
  {
   "cell_type": "markdown",
   "metadata": {},
   "source": [
    "### Plot for Regularisation coefficient λ v/s error:-"
   ]
  },
  {
   "cell_type": "code",
   "execution_count": 236,
   "metadata": {},
   "outputs": [
    {
     "data": {
      "image/png": "[encoded data removed]",
      "text/plain": [
       "<Figure size 432x288 with 1 Axes>"
      ]
     },
     "metadata": {
      "needs_background": "light"
     },
     "output_type": "display_data"
    }
   ],
   "source": [
    "import matplotlib.pyplot as plt\n",
    "plt.plot(lambda_list, err_list, label=\"Test Error\")\n",
    "# plt.plot(lambda_list, el, label=\"Training Error\")\n",
    "plt.xlabel('Lambda values',fontsize=12)\n",
    "plt.ylabel('Error',fontsize=12)\n",
    "plt.title('Error v/s Lambda',fontsize=16)\n",
    "plt.legend()\n",
    "plt.grid(True)\n",
    "plt.show()"
   ]
  },
  {
   "cell_type": "code",
   "execution_count": 237,
   "metadata": {},
   "outputs": [
    {
     "data": {
      "image/png": "[encoded data removed]",
      "text/plain": [
       "<Figure size 432x288 with 1 Axes>"
      ]
     },
     "metadata": {
      "needs_background": "light"
     },
     "output_type": "display_data"
    }
   ],
   "source": [
    "import matplotlib.pyplot as plt\n",
    "# plt.plot(lambda_list, err_list, label=\"Test Error\")\n",
    "plt.plot(lambda_list, el, label=\"Training Error\")\n",
    "plt.xlabel('Lambda values',fontsize=12)\n",
    "plt.ylabel('Error',fontsize=12)\n",
    "plt.title('Error v/s Lambda',fontsize=16)\n",
    "plt.legend()\n",
    "plt.grid(True)\n",
    "plt.show()"
   ]
  },
  {
   "cell_type": "code",
   "execution_count": null,
   "metadata": {},
   "outputs": [],
   "source": []
  }
 ],
 "metadata": {
  "kernelspec": {
   "display_name": "Python 3",
   "language": "python",
   "name": "python3"
  },
  "language_info": {
   "codemirror_mode": {
    "name": "ipython",
    "version": 3
   },
   "file_extension": ".py",
   "mimetype": "text/x-python",
   "name": "python",
   "nbconvert_exporter": "python",
   "pygments_lexer": "ipython3",
   "version": "3.6.7"
  }
 },
 "nbformat": 4,
 "nbformat_minor": 2
}
