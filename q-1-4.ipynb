{
 "cells": [
  {
   "cell_type": "code",
   "execution_count": 1,
   "metadata": {},
   "outputs": [],
   "source": [
    "import numpy as np  \n",
    "import matplotlib.pyplot as plt  \n",
    "import pandas as pd\n",
    "import csv\n",
    "import random\n",
    "import math\n",
    "import operator\n",
    "from numpy import linalg as LA\n",
    "import sys\n",
    "from sklearn.metrics import classification_report,confusion_matrix,accuracy_score\n",
    "from sklearn import linear_model"
   ]
  },
  {
   "cell_type": "code",
   "execution_count": 2,
   "metadata": {},
   "outputs": [
    {
     "data": {
      "text/html": [
       "<div>\n",
       "<style scoped>\n",
       "    .dataframe tbody tr th:only-of-type {\n",
       "        vertical-align: middle;\n",
       "    }\n",
       "\n",
       "    .dataframe tbody tr th {\n",
       "        vertical-align: top;\n",
       "    }\n",
       "\n",
       "    .dataframe thead th {\n",
       "        text-align: right;\n",
       "    }\n",
       "</style>\n",
       "<table border=\"1\" class=\"dataframe\">\n",
       "  <thead>\n",
       "    <tr style=\"text-align: right;\">\n",
       "      <th></th>\n",
       "      <th>Serial No.</th>\n",
       "      <th>GRE Score</th>\n",
       "      <th>TOEFL Score</th>\n",
       "      <th>University Rating</th>\n",
       "      <th>SOP</th>\n",
       "      <th>LOR</th>\n",
       "      <th>CGPA</th>\n",
       "      <th>Research</th>\n",
       "      <th>Chance of Admit</th>\n",
       "    </tr>\n",
       "  </thead>\n",
       "  <tbody>\n",
       "    <tr>\n",
       "      <th>0</th>\n",
       "      <td>242</td>\n",
       "      <td>317</td>\n",
       "      <td>103</td>\n",
       "      <td>2</td>\n",
       "      <td>2.5</td>\n",
       "      <td>2.0</td>\n",
       "      <td>8.15</td>\n",
       "      <td>0</td>\n",
       "      <td>0.65</td>\n",
       "    </tr>\n",
       "    <tr>\n",
       "      <th>1</th>\n",
       "      <td>334</td>\n",
       "      <td>319</td>\n",
       "      <td>108</td>\n",
       "      <td>3</td>\n",
       "      <td>3.0</td>\n",
       "      <td>3.5</td>\n",
       "      <td>8.54</td>\n",
       "      <td>1</td>\n",
       "      <td>0.71</td>\n",
       "    </tr>\n",
       "    <tr>\n",
       "      <th>2</th>\n",
       "      <td>4</td>\n",
       "      <td>322</td>\n",
       "      <td>110</td>\n",
       "      <td>3</td>\n",
       "      <td>3.5</td>\n",
       "      <td>2.5</td>\n",
       "      <td>8.67</td>\n",
       "      <td>1</td>\n",
       "      <td>0.80</td>\n",
       "    </tr>\n",
       "    <tr>\n",
       "      <th>3</th>\n",
       "      <td>45</td>\n",
       "      <td>326</td>\n",
       "      <td>113</td>\n",
       "      <td>5</td>\n",
       "      <td>4.5</td>\n",
       "      <td>4.0</td>\n",
       "      <td>9.40</td>\n",
       "      <td>1</td>\n",
       "      <td>0.91</td>\n",
       "    </tr>\n",
       "    <tr>\n",
       "      <th>4</th>\n",
       "      <td>232</td>\n",
       "      <td>319</td>\n",
       "      <td>106</td>\n",
       "      <td>3</td>\n",
       "      <td>3.5</td>\n",
       "      <td>2.5</td>\n",
       "      <td>8.33</td>\n",
       "      <td>1</td>\n",
       "      <td>0.74</td>\n",
       "    </tr>\n",
       "  </tbody>\n",
       "</table>\n",
       "</div>"
      ],
      "text/plain": [
       "   Serial No.  GRE Score  TOEFL Score  University Rating  SOP  LOR   CGPA  \\\n",
       "0         242        317          103                  2  2.5   2.0  8.15   \n",
       "1         334        319          108                  3  3.0   3.5  8.54   \n",
       "2           4        322          110                  3  3.5   2.5  8.67   \n",
       "3          45        326          113                  5  4.5   4.0  9.40   \n",
       "4         232        319          106                  3  3.5   2.5  8.33   \n",
       "\n",
       "   Research  Chance of Admit   \n",
       "0         0              0.65  \n",
       "1         1              0.71  \n",
       "2         1              0.80  \n",
       "3         1              0.91  \n",
       "4         1              0.74  "
      ]
     },
     "execution_count": 2,
     "metadata": {},
     "output_type": "execute_result"
    }
   ],
   "source": [
    "df = pd.read_csv('AdmissionDataset/data.csv')\n",
    "df.head()"
   ]
  },
  {
   "cell_type": "code",
   "execution_count": 3,
   "metadata": {},
   "outputs": [],
   "source": [
    "def MSE(theta,bias,X,Y,l):\n",
    "    temp=np.dot(X,theta)\n",
    "    Htheta=temp+bias\n",
    "    t1=np.sum((Htheta-Y)**2)\n",
    "    return (0.5/len(X))*(t1)"
   ]
  },
  {
   "cell_type": "code",
   "execution_count": 4,
   "metadata": {},
   "outputs": [],
   "source": [
    "from sklearn.model_selection import train_test_split  \n",
    "train,test = train_test_split(df, test_size=0.2)\n",
    "train_y = train['Chance of Admit ']\n",
    "train = train.drop('Serial No.',axis=1)\n",
    "train = train.drop('Chance of Admit ',axis=1)\n",
    "test_y = test['Chance of Admit ']\n",
    "test = test.drop('Serial No.',axis=1)\n",
    "test = test.drop('Chance of Admit ',axis=1)"
   ]
  },
  {
   "cell_type": "code",
   "execution_count": 5,
   "metadata": {},
   "outputs": [
    {
     "name": "stdout",
     "output_type": "stream",
     "text": [
      "(360, 7)\n",
      "(360, 1)\n"
     ]
    },
    {
     "data": {
      "text/plain": [
       "(90, 1)"
      ]
     },
     "execution_count": 5,
     "metadata": {},
     "output_type": "execute_result"
    }
   ],
   "source": [
    "xtrain=np.array(train)\n",
    "xtrain=(xtrain-xtrain.mean(axis=0))/xtrain.std(axis=0)\n",
    "print(xtrain.shape)\n",
    "ytrain=np.array(train_y)\n",
    "ytrain=ytrain.reshape((len(ytrain),1))\n",
    "print(ytrain.shape)\n",
    "xtest=np.array(test)\n",
    "xtest=(xtest-xtest.mean(axis=0))/xtest.std(axis=0)\n",
    "ytest=np.array(test_y)\n",
    "ytest=ytest.reshape((len(ytest),1))\n",
    "ytest.shape"
   ]
  },
  {
   "cell_type": "code",
   "execution_count": 6,
   "metadata": {},
   "outputs": [],
   "source": [
    "def cost_func_ridge(theta,bias,X,Y,l):\n",
    "    temp=np.dot(X,theta)\n",
    "    Htheta=temp+bias\n",
    "    t1=np.sum((Htheta-Y)**2)\n",
    "    t2=l*np.sum(theta**2)\n",
    "    return (0.5/len(X))*(t1+t2)"
   ]
  },
  {
   "cell_type": "code",
   "execution_count": 7,
   "metadata": {},
   "outputs": [],
   "source": [
    "def grad_des_ridge(X,Y,lr,epochs,l):\n",
    "    theta=np.zeros((X.shape[1],1))\n",
    "    bias=0\n",
    "    for e in range(epochs):\n",
    "        temp=np.dot(X,theta)\n",
    "        Htheta=temp+bias\n",
    "        db=np.sum(Htheta-Y)\n",
    "        dtheta=np.dot(X.T,(Htheta-Y))\n",
    "        ridge_diff=dtheta+l*theta\n",
    "        bias=bias-(lr/len(X)*db)\n",
    "        theta=theta-(lr/len(X)*ridge_diff)\n",
    "    return theta,bias"
   ]
  },
  {
   "cell_type": "code",
   "execution_count": 8,
   "metadata": {},
   "outputs": [],
   "source": [
    "def cost_func_lasso(theta,bias,X,Y,l):\n",
    "    temp=np.dot(X,theta)\n",
    "    Htheta=temp+bias\n",
    "    t1=np.sum((Htheta-Y)**2)\n",
    "    t2=l*np.sum(np.abs(theta))\n",
    "    return (0.5/len(X))*(t1+t2)"
   ]
  },
  {
   "cell_type": "code",
   "execution_count": 9,
   "metadata": {},
   "outputs": [],
   "source": [
    "def grad_des_lasso(X,Y,lr,epochs,l):\n",
    "    theta=np.zeros((X.shape[1],1))\n",
    "    bias=0\n",
    "    for e in range(epochs):\n",
    "        temp=np.dot(X,theta)\n",
    "        Htheta=temp+bias\n",
    "        db=np.sum(Htheta-Y)\n",
    "        dtheta=np.dot(X.T,(Htheta-Y))\n",
    "        lasso_diff=dtheta+l*np.sign(theta)\n",
    "        bias=bias-(lr/len(X)*db)\n",
    "        theta=theta-(lr/len(X)*lasso_diff)\n",
    "    return theta,bias"
   ]
  },
  {
   "cell_type": "code",
   "execution_count": 10,
   "metadata": {},
   "outputs": [
    {
     "data": {
      "text/plain": [
       "0.00183721554303727"
      ]
     },
     "execution_count": 10,
     "metadata": {},
     "output_type": "execute_result"
    }
   ],
   "source": [
    "theta,bias=grad_des_ridge(xtrain,ytrain,0.1,1000,20)\n",
    "errval1=MSE(theta,bias,xtest,ytest,20)\n",
    "errval1"
   ]
  },
  {
   "cell_type": "code",
   "execution_count": 19,
   "metadata": {},
   "outputs": [],
   "source": [
    "theta1,bias1=grad_des_lasso(xtrain,ytrain,0.1,1000,0.5)\n",
    "errval2=MSE(theta,bias,xtest,ytest,0.5)"
   ]
  },
  {
   "cell_type": "markdown",
   "metadata": {},
   "source": [
    "### Weights in Ridge Regression:-"
   ]
  },
  {
   "cell_type": "code",
   "execution_count": 20,
   "metadata": {},
   "outputs": [
    {
     "data": {
      "text/plain": [
       "array([[0.02446183],\n",
       "       [0.01790003],\n",
       "       [0.00505994],\n",
       "       [0.00504016],\n",
       "       [0.01588339],\n",
       "       [0.06082014],\n",
       "       [0.0129924 ]])"
      ]
     },
     "execution_count": 20,
     "metadata": {},
     "output_type": "execute_result"
    }
   ],
   "source": [
    "theta"
   ]
  },
  {
   "cell_type": "markdown",
   "metadata": {},
   "source": [
    "### Weights in Lasso Regression:-"
   ]
  },
  {
   "cell_type": "code",
   "execution_count": 21,
   "metadata": {},
   "outputs": [
    {
     "data": {
      "text/plain": [
       "array([[0.02180841],\n",
       "       [0.01461248],\n",
       "       [0.00262963],\n",
       "       [0.00208403],\n",
       "       [0.01491075],\n",
       "       [0.07232452],\n",
       "       [0.01235453]])"
      ]
     },
     "execution_count": 21,
     "metadata": {},
     "output_type": "execute_result"
    }
   ],
   "source": [
    "theta1"
   ]
  },
  {
   "cell_type": "code",
   "execution_count": 22,
   "metadata": {},
   "outputs": [],
   "source": [
    "diff=np.subtract(theta,theta1)"
   ]
  },
  {
   "cell_type": "markdown",
   "metadata": {},
   "source": [
    "### Difference in both weights:-"
   ]
  },
  {
   "cell_type": "code",
   "execution_count": 23,
   "metadata": {},
   "outputs": [
    {
     "data": {
      "text/plain": [
       "array([[ 0.00265341],\n",
       "       [ 0.00328755],\n",
       "       [ 0.00243031],\n",
       "       [ 0.00295613],\n",
       "       [ 0.00097264],\n",
       "       [-0.01150438],\n",
       "       [ 0.00063787]])"
      ]
     },
     "execution_count": 23,
     "metadata": {},
     "output_type": "execute_result"
    }
   ],
   "source": [
    "diff"
   ]
  },
  {
   "cell_type": "markdown",
   "metadata": {},
   "source": [
    "#### So , both weights are nearly equal on respective best lambdas for Lasso and Ridge."
   ]
  },
  {
   "cell_type": "code",
   "execution_count": null,
   "metadata": {},
   "outputs": [],
   "source": []
  }
 ],
 "metadata": {
  "kernelspec": {
   "display_name": "Python 3",
   "language": "python",
   "name": "python3"
  },
  "language_info": {
   "codemirror_mode": {
    "name": "ipython",
    "version": 3
   },
   "file_extension": ".py",
   "mimetype": "text/x-python",
   "name": "python",
   "nbconvert_exporter": "python",
   "pygments_lexer": "ipython3",
   "version": "3.6.7"
  }
 },
 "nbformat": 4,
 "nbformat_minor": 2
}
