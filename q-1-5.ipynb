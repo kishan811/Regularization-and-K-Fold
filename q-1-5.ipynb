{
 "cells": [
  {
   "cell_type": "code",
   "execution_count": 1,
   "metadata": {},
   "outputs": [],
   "source": [
    "import numpy as np  \n",
    "import matplotlib.pyplot as plt  \n",
    "import pandas as pd\n",
    "import csv\n",
    "import random\n",
    "import math\n",
    "import operator\n",
    "from numpy import linalg as LA\n",
    "import sys\n",
    "from sklearn.model_selection import KFold\n",
    "from sklearn.metrics import classification_report,confusion_matrix,accuracy_score\n",
    "from sklearn import linear_model"
   ]
  },
  {
   "cell_type": "code",
   "execution_count": 2,
   "metadata": {},
   "outputs": [],
   "source": [
    "df = pd.read_csv('AdmissionDataset/data.csv')"
   ]
  },
  {
   "cell_type": "code",
   "execution_count": 3,
   "metadata": {},
   "outputs": [
    {
     "data": {
      "text/html": [
       "<div>\n",
       "<style scoped>\n",
       "    .dataframe tbody tr th:only-of-type {\n",
       "        vertical-align: middle;\n",
       "    }\n",
       "\n",
       "    .dataframe tbody tr th {\n",
       "        vertical-align: top;\n",
       "    }\n",
       "\n",
       "    .dataframe thead th {\n",
       "        text-align: right;\n",
       "    }\n",
       "</style>\n",
       "<table border=\"1\" class=\"dataframe\">\n",
       "  <thead>\n",
       "    <tr style=\"text-align: right;\">\n",
       "      <th></th>\n",
       "      <th>Serial No.</th>\n",
       "      <th>GRE Score</th>\n",
       "      <th>TOEFL Score</th>\n",
       "      <th>University Rating</th>\n",
       "      <th>SOP</th>\n",
       "      <th>LOR</th>\n",
       "      <th>CGPA</th>\n",
       "      <th>Research</th>\n",
       "      <th>Chance of Admit</th>\n",
       "    </tr>\n",
       "  </thead>\n",
       "  <tbody>\n",
       "    <tr>\n",
       "      <th>0</th>\n",
       "      <td>242</td>\n",
       "      <td>317</td>\n",
       "      <td>103</td>\n",
       "      <td>2</td>\n",
       "      <td>2.5</td>\n",
       "      <td>2.0</td>\n",
       "      <td>8.15</td>\n",
       "      <td>0</td>\n",
       "      <td>0.65</td>\n",
       "    </tr>\n",
       "    <tr>\n",
       "      <th>1</th>\n",
       "      <td>334</td>\n",
       "      <td>319</td>\n",
       "      <td>108</td>\n",
       "      <td>3</td>\n",
       "      <td>3.0</td>\n",
       "      <td>3.5</td>\n",
       "      <td>8.54</td>\n",
       "      <td>1</td>\n",
       "      <td>0.71</td>\n",
       "    </tr>\n",
       "    <tr>\n",
       "      <th>2</th>\n",
       "      <td>4</td>\n",
       "      <td>322</td>\n",
       "      <td>110</td>\n",
       "      <td>3</td>\n",
       "      <td>3.5</td>\n",
       "      <td>2.5</td>\n",
       "      <td>8.67</td>\n",
       "      <td>1</td>\n",
       "      <td>0.80</td>\n",
       "    </tr>\n",
       "    <tr>\n",
       "      <th>3</th>\n",
       "      <td>45</td>\n",
       "      <td>326</td>\n",
       "      <td>113</td>\n",
       "      <td>5</td>\n",
       "      <td>4.5</td>\n",
       "      <td>4.0</td>\n",
       "      <td>9.40</td>\n",
       "      <td>1</td>\n",
       "      <td>0.91</td>\n",
       "    </tr>\n",
       "    <tr>\n",
       "      <th>4</th>\n",
       "      <td>232</td>\n",
       "      <td>319</td>\n",
       "      <td>106</td>\n",
       "      <td>3</td>\n",
       "      <td>3.5</td>\n",
       "      <td>2.5</td>\n",
       "      <td>8.33</td>\n",
       "      <td>1</td>\n",
       "      <td>0.74</td>\n",
       "    </tr>\n",
       "  </tbody>\n",
       "</table>\n",
       "</div>"
      ],
      "text/plain": [
       "   Serial No.  GRE Score  TOEFL Score  University Rating  SOP  LOR   CGPA  \\\n",
       "0         242        317          103                  2  2.5   2.0  8.15   \n",
       "1         334        319          108                  3  3.0   3.5  8.54   \n",
       "2           4        322          110                  3  3.5   2.5  8.67   \n",
       "3          45        326          113                  5  4.5   4.0  9.40   \n",
       "4         232        319          106                  3  3.5   2.5  8.33   \n",
       "\n",
       "   Research  Chance of Admit   \n",
       "0         0              0.65  \n",
       "1         1              0.71  \n",
       "2         1              0.80  \n",
       "3         1              0.91  \n",
       "4         1              0.74  "
      ]
     },
     "execution_count": 3,
     "metadata": {},
     "output_type": "execute_result"
    }
   ],
   "source": [
    "df.head()"
   ]
  },
  {
   "cell_type": "code",
   "execution_count": 4,
   "metadata": {},
   "outputs": [],
   "source": [
    "def MSE(theta,bias,X,Y,l):\n",
    "    temp=np.dot(X,theta)\n",
    "    Htheta=temp+bias\n",
    "    t1=np.sum((Htheta-Y)**2)\n",
    "    return (0.5/len(X))*(t1)"
   ]
  },
  {
   "cell_type": "code",
   "execution_count": 5,
   "metadata": {},
   "outputs": [],
   "source": [
    "def cost_func(theta,bias,X,Y,l):\n",
    "    temp=np.dot(X,theta)\n",
    "    Htheta=temp+bias\n",
    "    t1=np.sum((Htheta-Y)**2)\n",
    "    t2=l*np.sum(theta**2)\n",
    "    return (0.5/len(X))*(t1+t2)"
   ]
  },
  {
   "cell_type": "code",
   "execution_count": 6,
   "metadata": {},
   "outputs": [],
   "source": [
    "def grad_des(X,Y,lr,epochs,l):\n",
    "    theta=np.zeros((X.shape[1],1))\n",
    "    bias=0\n",
    "    for e in range(epochs):\n",
    "        temp=np.dot(X,theta)\n",
    "        Htheta=temp+bias\n",
    "        db=np.sum(Htheta-Y)\n",
    "        dtheta=np.dot(X.T,(Htheta-Y))\n",
    "        ridge_diff=dtheta+l*theta\n",
    "        bias=bias-(lr/len(X)*db)\n",
    "        theta=theta-(lr/len(X)*ridge_diff)\n",
    "#         if e%10==0:\n",
    "#             print(\"Cost at epoch \"+ str(e) +\" is- \"+ str(cost_func(theta,bias,X,Y,l)))\n",
    "    return theta,bias"
   ]
  },
  {
   "cell_type": "code",
   "execution_count": 7,
   "metadata": {},
   "outputs": [],
   "source": [
    "kf = KFold(n_splits=2)"
   ]
  },
  {
   "cell_type": "code",
   "execution_count": 8,
   "metadata": {},
   "outputs": [],
   "source": [
    "kf\n",
    "df = df.drop('Serial No.',axis=1)\n",
    "y = df['Chance of Admit ']\n",
    "X = df.drop('Chance of Admit ', axis=1)"
   ]
  },
  {
   "cell_type": "code",
   "execution_count": 9,
   "metadata": {},
   "outputs": [],
   "source": [
    "y = np.array(y)\n",
    "X = np.array(X)\n",
    "X=(X-X.mean(axis=0))/X.std(axis=0)\n",
    "y=y.reshape((len(y),1))"
   ]
  },
  {
   "cell_type": "code",
   "execution_count": 10,
   "metadata": {},
   "outputs": [
    {
     "data": {
      "text/plain": [
       "(450, 1)"
      ]
     },
     "execution_count": 10,
     "metadata": {},
     "output_type": "execute_result"
    }
   ],
   "source": [
    "y.shape"
   ]
  },
  {
   "cell_type": "markdown",
   "metadata": {},
   "source": [
    "### K-Fold Cross Validation:-"
   ]
  },
  {
   "cell_type": "code",
   "execution_count": 14,
   "metadata": {},
   "outputs": [
    {
     "name": "stdout",
     "output_type": "stream",
     "text": [
      "k-value:  2  & Error: 0.0019450760992314289\n",
      "k-value:  3  & Error: 0.00192135971492319\n",
      "k-value:  5  & Error: 0.0018981444174981156\n",
      "k-value:  6  & Error: 0.0018866037250186455\n",
      "k-value:  9  & Error: 0.001887804820737927\n",
      "k-value:  10  & Error: 0.0018971340893848617\n",
      "k-value:  15  & Error: 0.0018848194379811544\n",
      "k-value:  18  & Error: 0.001884280330075581\n",
      "k-value:  25  & Error: 0.0018870843833773453\n",
      "k-value:  30  & Error: 0.0018887368507337712\n",
      "k-value:  45  & Error: 0.0018895391162539873\n",
      "k-value:  50  & Error: 0.0018961409983731727\n",
      "k-value:  75  & Error: 0.0018887426831032566\n",
      "k-value:  90  & Error: 0.0018954833671672782\n",
      "k-value:  150  & Error: 0.0018946235610435428\n",
      "k-value:  225  & Error: 0.0018930855300329588\n",
      "k-value:  450  & Error: 0.0018937019470787238\n"
     ]
    }
   ],
   "source": [
    "elist=[]\n",
    "for k in [2,3,5,6,9,10,15,18,25,30,45,50,75,90,150,225,450]:\n",
    "    me=0\n",
    "    err=0\n",
    "    kf = KFold(n_splits=k)\n",
    "    for train_index, test_index in kf.split(X):\n",
    "        X_train, X_test = X[train_index], X[test_index]\n",
    "        y_train, y_test = y[train_index], y[test_index]\n",
    "#         print(X_test.shape)\n",
    "#         print(X_train.shape)\n",
    "        theta,bias=grad_des(X_train,y_train,0.1,1000,20)\n",
    "        err=MSE(theta,bias,X_test,y_test,20)\n",
    "        me+=err\n",
    "    print(\"k-value: \",k,\" & Error:\", me/k)\n",
    "    elist.append(me/k)"
   ]
  },
  {
   "cell_type": "code",
   "execution_count": 15,
   "metadata": {},
   "outputs": [
    {
     "data": {
      "image/png": "[encoded data removed]",
      "text/plain": [
       "<Figure size 432x288 with 1 Axes>"
      ]
     },
     "metadata": {
      "needs_background": "light"
     },
     "output_type": "display_data"
    }
   ],
   "source": [
    "k_val=[2,3,5,6,9,10,15,18,25,30,45,50,75,90,150,225,450]\n",
    "import matplotlib.pyplot as plt\n",
    "plt.plot(k_val,elist)\n",
    "plt.xlabel('K-values',fontsize=12)\n",
    "plt.ylabel('Error',fontsize=12)\n",
    "plt.title('K-value v/s Error',fontsize=16)\n",
    "plt.grid(True)\n",
    "plt.show()"
   ]
  },
  {
   "cell_type": "markdown",
   "metadata": {},
   "source": [
    "### Leave-one-out Cross Validation:-"
   ]
  },
  {
   "cell_type": "code",
   "execution_count": 19,
   "metadata": {},
   "outputs": [
    {
     "name": "stdout",
     "output_type": "stream",
     "text": [
      "Error in Leave one out Cross Validation:  0.0018915265078479242\n"
     ]
    }
   ],
   "source": [
    "lv = KFold(n_splits=450)\n",
    "me=0\n",
    "err=0\n",
    "for train_index, test_index in lv.split(X):\n",
    "    X_train, X_test = X[train_index], X[test_index]\n",
    "    y_train, y_test = y[train_index], y[test_index]\n",
    "    theta,bias=grad_des(X_train,y_train,0.1,1000,15)\n",
    "    err=MSE(theta,bias,X_test,y_test,20)\n",
    "    me+=err\n",
    "print(\"Error in Leave one out Cross Validation: \", me/k)"
   ]
  },
  {
   "cell_type": "code",
   "execution_count": null,
   "metadata": {},
   "outputs": [],
   "source": []
  },
  {
   "cell_type": "code",
   "execution_count": null,
   "metadata": {},
   "outputs": [],
   "source": []
  }
 ],
 "metadata": {
  "kernelspec": {
   "display_name": "Python 3",
   "language": "python",
   "name": "python3"
  },
  "language_info": {
   "codemirror_mode": {
    "name": "ipython",
    "version": 3
   },
   "file_extension": ".py",
   "mimetype": "text/x-python",
   "name": "python",
   "nbconvert_exporter": "python",
   "pygments_lexer": "ipython3",
   "version": "3.6.7"
  }
 },
 "nbformat": 4,
 "nbformat_minor": 2
}
